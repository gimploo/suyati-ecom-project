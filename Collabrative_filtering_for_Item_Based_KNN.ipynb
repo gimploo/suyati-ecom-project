{
  "nbformat": 4,
  "nbformat_minor": 0,
  "metadata": {
    "colab": {
      "name": "Collabrative filtering for Item Based KNN",
      "provenance": [],
      "collapsed_sections": [],
      "authorship_tag": "ABX9TyN2rJqjQD4Ov9dSens9mGdq",
      "include_colab_link": true
    },
    "kernelspec": {
      "name": "python3",
      "display_name": "Python 3"
    },
    "language_info": {
      "name": "python"
    }
  },
  "cells": [
    {
      "cell_type": "markdown",
      "metadata": {
        "id": "view-in-github",
        "colab_type": "text"
      },
      "source": [
        "<a href=\"https://colab.research.google.com/github/gimploo/suyati-ecom-project/blob/main/Collabrative_filtering_for_Item_Based_KNN.ipynb\" target=\"_parent\"><img src=\"https://colab.research.google.com/assets/colab-badge.svg\" alt=\"Open In Colab\"/></a>"
      ]
    },
    {
      "cell_type": "code",
      "execution_count": null,
      "metadata": {
        "id": "Ux3Kkk8-QsQ9"
      },
      "outputs": [],
      "source": [
        "import pandas as pd\n",
        "import numpy as np\n",
        "books=pd.read_csv('Books.csv')\n",
        "ratings = pd.read_csv(\"Ratings.csv\")\n",
        "book_df=pd.DataFrame(books,columns=['ISBN','Book'])\n",
        "book_df.head()\n"
      ]
    },
    {
      "cell_type": "code",
      "source": [
        "ratings['UserID'].value_counts()"
      ],
      "metadata": {
        "id": "qtNc9pW1RxQt"
      },
      "execution_count": null,
      "outputs": []
    },
    {
      "cell_type": "code",
      "source": [
        "x = ratings['UserID'].value_counts() > 200\n",
        "y = x[x].index\n",
        "ratings = ratings[ratings['UserID'].isin(y)]\n",
        "print(ratings)"
      ],
      "metadata": {
        "id": "pGPnWqO5PmC8"
      },
      "execution_count": null,
      "outputs": []
    },
    {
      "cell_type": "code",
      "source": [
        "rating_with_books = ratings.merge(books, on='ISBN')\n",
        "rating_with_books.head()"
      ],
      "metadata": {
        "id": "9gc7ctdzVzWA"
      },
      "execution_count": null,
      "outputs": []
    },
    {
      "cell_type": "code",
      "source": [
        "number_rating = rating_with_books.groupby('Book')['BookRating'].count().reset_index()\n",
        "number_rating.rename(columns= {'BookRating':'number_of_ratings'}, inplace=True)\n",
        "final_rating = rating_with_books.merge(number_rating, on='Book')\n",
        "final_rating = final_rating[final_rating['number_of_ratings'] >= 50]\n",
        "final_rating.drop_duplicates(['UserID','Book'], inplace=True)\n"
      ],
      "metadata": {
        "id": "kkofxUviWae3"
      },
      "execution_count": null,
      "outputs": []
    },
    {
      "cell_type": "code",
      "source": [
        "book_pivot = final_rating.pivot_table(columns='UserID', index='ISBN', values=\"BookRating\")\n",
        "book_pivot.fillna(0, inplace=True)\n",
        "book_pivot.head()"
      ],
      "metadata": {
        "id": "pzqYS_ZRXlx5"
      },
      "execution_count": null,
      "outputs": []
    },
    {
      "cell_type": "code",
      "source": [
        "from scipy.sparse import csr_matrix\n",
        "book_sparse = csr_matrix(book_pivot)\n"
      ],
      "metadata": {
        "id": "dgT4cjOxYfup"
      },
      "execution_count": null,
      "outputs": []
    },
    {
      "cell_type": "code",
      "source": [
        "from sklearn.neighbors import NearestNeighbors\n",
        "model = NearestNeighbors(algorithm='brute')\n",
        "model.fit(book_sparse)"
      ],
      "metadata": {
        "id": "1FT70G3gBjJ6"
      },
      "execution_count": null,
      "outputs": []
    },
    {
      "cell_type": "code",
      "source": [
        "distances, suggestions = model.kneighbors(book_pivot.iloc[237, :].values.reshape(1, -1))"
      ],
      "metadata": {
        "id": "2LxlBpUkmgqX"
      },
      "execution_count": null,
      "outputs": []
    },
    {
      "cell_type": "code",
      "source": [
        "for i in range(len(suggestions)):\n",
        "  print(book_pivot.index[suggestions[i]])"
      ],
      "metadata": {
        "id": "oGtCmfK-jD46"
      },
      "execution_count": null,
      "outputs": []
    },
    {
      "cell_type": "code",
      "source": [
        ""
      ],
      "metadata": {
        "id": "e-K8DgYWjWlu"
      },
      "execution_count": null,
      "outputs": []
    }
  ]
}